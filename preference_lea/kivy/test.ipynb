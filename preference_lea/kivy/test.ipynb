{
 "cells": [
  {
   "cell_type": "code",
   "execution_count": 2,
   "metadata": {
    "collapsed": true,
    "pycharm": {
     "is_executing": false
    }
   },
   "outputs": [],
   "source": [
    "import pandas as pd"
   ]
  },
  {
   "cell_type": "code",
   "execution_count": 11,
   "outputs": [
    {
     "data": {
      "text/plain": "   Unnamed: 0  amount  emergency\n0           0    0.01        100",
      "text/html": "<div>\n<style scoped>\n    .dataframe tbody tr th:only-of-type {\n        vertical-align: middle;\n    }\n\n    .dataframe tbody tr th {\n        vertical-align: top;\n    }\n\n    .dataframe thead th {\n        text-align: right;\n    }\n</style>\n<table border=\"1\" class=\"dataframe\">\n  <thead>\n    <tr style=\"text-align: right;\">\n      <th></th>\n      <th>Unnamed: 0</th>\n      <th>amount</th>\n      <th>emergency</th>\n    </tr>\n  </thead>\n  <tbody>\n    <tr>\n      <th>0</th>\n      <td>0</td>\n      <td>0.01</td>\n      <td>100</td>\n    </tr>\n  </tbody>\n</table>\n</div>"
     },
     "metadata": {},
     "output_type": "execute_result",
     "execution_count": 11
    }
   ],
   "source": [
    "pd.read_csv('setting.csv')\n"
   ],
   "metadata": {
    "collapsed": false,
    "pycharm": {
     "name": "#%%\n",
     "is_executing": false
    }
   }
  },
  {
   "cell_type": "code",
   "execution_count": 13,
   "outputs": [],
   "source": [
    "ini_affiliate_id = pd.DataFrame([0],columns=['id'])\n",
    "ini_exchange = pd.DataFrame([0],columns=['exchange'])\n",
    "ini_ini = pd.DataFrame([0],columns=['ini'])\n",
    "ini_keys = pd.DataFrame([['x','x']],columns=['APIKEY','SCTKEY'])"
   ],
   "metadata": {
    "collapsed": false,
    "pycharm": {
     "name": "#%%\n",
     "is_executing": false
    }
   }
  },
  {
   "cell_type": "code",
   "execution_count": 67,
   "outputs": [],
   "source": [
    "ini_affiliate_id.to_csv('affiliate_id.csv', index=False)\n",
    "ini_exchange.to_csv('exchange.csv', index=False)\n",
    "ini_ini.to_csv('ini.csv', index=False)\n",
    "ini_keys.to_csv('keys.csv', index=False)"
   ],
   "metadata": {
    "collapsed": false,
    "pycharm": {
     "name": "#%%\n",
     "is_executing": false
    }
   }
  },
  {
   "cell_type": "code",
   "execution_count": 36,
   "outputs": [
    {
     "data": {
      "text/plain": "'108.95'"
     },
     "metadata": {},
     "output_type": "execute_result",
     "execution_count": 36
    }
   ],
   "source": [
    "import requests\n",
    "\n",
    "res = requests.get('https://www.gaitameonline.com/rateaj/getrate')\n",
    "res = res.json()['quotes']\n",
    "\n",
    "for i in res:\n",
    "    if i['currencyPairCode'] == 'USDJPY':\n",
    "        btcusd = i['ask']\n",
    "        break\n",
    "btcusd"
   ],
   "metadata": {
    "collapsed": false,
    "pycharm": {
     "name": "#%%\n",
     "is_executing": false
    }
   }
  },
  {
   "cell_type": "code",
   "execution_count": 44,
   "outputs": [
    {
     "data": {
      "text/plain": "{'product_code': 'BTC_JPY',\n 'timestamp': '2020-04-09T06:19:12.713',\n 'tick_id': 19861173,\n 'best_bid': 799288.0,\n 'best_ask': 799825.0,\n 'best_bid_size': 0.07012,\n 'best_ask_size': 0.1,\n 'total_bid_depth': 3131.52055125,\n 'total_ask_depth': 1313.77787038,\n 'ltp': 799904.0,\n 'volume': 137074.00301338,\n 'volume_by_product': 6013.8346704}"
     },
     "metadata": {},
     "output_type": "execute_result",
     "execution_count": 44
    }
   ],
   "source": [
    "btc = requests.get('https://api.bitflyer.com/v1/getticker')\n",
    "btc = btc.json()\n",
    "btc"
   ],
   "metadata": {
    "collapsed": false,
    "pycharm": {
     "name": "#%%\n",
     "is_executing": false
    }
   }
  },
  {
   "cell_type": "code",
   "execution_count": 54,
   "outputs": [],
   "source": [
    "res = requests.get('https://ijpk90a13l.execute-api.ap-northeast-1.amazonaws.com/fx/getfx')\n",
    "res = res.json()['body']\n",
    "usdjpy = float(res.split('/')[0])\n",
    "btcjpy = float(res.split('/')[1])"
   ],
   "metadata": {
    "collapsed": false,
    "pycharm": {
     "name": "#%%\n",
     "is_executing": false
    }
   }
  },
  {
   "cell_type": "code",
   "execution_count": 61,
   "outputs": [
    {
     "data": {
      "text/plain": "73"
     },
     "metadata": {},
     "output_type": "execute_result",
     "execution_count": 61
    }
   ],
   "source": [
    "amount = 0.01\n",
    "jpy = btcjpy*amount\n",
    "usd_amount = int(jpy/usdjpy)\n",
    "usd_amount"
   ],
   "metadata": {
    "collapsed": false,
    "pycharm": {
     "name": "#%%\n",
     "is_executing": false
    }
   }
  },
  {
   "cell_type": "code",
   "execution_count": 63,
   "outputs": [],
   "source": [
    "params = {'symbol':'XBTUSD'}\n",
    "res = requests.get('https://www.bitmex.com/api/v1/instrument', params=params)"
   ],
   "metadata": {
    "collapsed": false,
    "pycharm": {
     "name": "#%%\n",
     "is_executing": false
    }
   }
  },
  {
   "cell_type": "code",
   "execution_count": 66,
   "outputs": [
    {
     "data": {
      "text/plain": "7314"
     },
     "metadata": {},
     "output_type": "execute_result",
     "execution_count": 66
    }
   ],
   "source": [
    "res.json()[0]['lastPrice']\n"
   ],
   "metadata": {
    "collapsed": false,
    "pycharm": {
     "name": "#%%\n",
     "is_executing": false
    }
   }
  }
 ],
 "metadata": {
  "kernelspec": {
   "display_name": "Python 3",
   "language": "python",
   "name": "python3"
  },
  "language_info": {
   "codemirror_mode": {
    "name": "ipython",
    "version": 2
   },
   "file_extension": ".py",
   "mimetype": "text/x-python",
   "name": "python",
   "nbconvert_exporter": "python",
   "pygments_lexer": "ipython2",
   "version": "2.7.6"
  },
  "pycharm": {
   "stem_cell": {
    "cell_type": "raw",
    "source": [],
    "metadata": {
     "collapsed": false
    }
   }
  }
 },
 "nbformat": 4,
 "nbformat_minor": 0
}